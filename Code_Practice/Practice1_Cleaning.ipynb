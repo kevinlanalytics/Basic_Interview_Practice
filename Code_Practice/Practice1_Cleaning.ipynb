{
 "cells": [
  {
   "cell_type": "code",
   "execution_count": 1,
   "id": "6c5c8bba",
   "metadata": {},
   "outputs": [],
   "source": [
    "import pandas as pd \n",
    "from datetime import datetime   "
   ]
  },
  {
   "cell_type": "code",
   "execution_count": 26,
   "id": "142818ab",
   "metadata": {},
   "outputs": [],
   "source": [
    "url='/Users/sonicboy66/Documents/Code_Practice/women_health_trials.csv'\n",
    "df= pd.read_csv(url)\n"
   ]
  },
  {
   "cell_type": "code",
   "execution_count": 27,
   "id": "cd93365e",
   "metadata": {},
   "outputs": [
    {
     "name": "stdout",
     "output_type": "stream",
     "text": [
      "<class 'pandas.core.frame.DataFrame'>\n",
      "RangeIndex: 7 entries, 0 to 6\n",
      "Data columns (total 6 columns):\n",
      " #   Column                Non-Null Count  Dtype \n",
      "---  ------                --------------  ----- \n",
      " 0   trial_id              7 non-null      object\n",
      " 1   drug_name             6 non-null      object\n",
      " 2   dose_mg               5 non-null      object\n",
      " 3   start_date            7 non-null      object\n",
      " 4   condition             7 non-null      object\n",
      " 5   intervention_details  7 non-null      object\n",
      "dtypes: object(6)\n",
      "memory usage: 464.0+ bytes\n"
     ]
    }
   ],
   "source": [
    "df.info()"
   ]
  },
  {
   "cell_type": "code",
   "execution_count": 28,
   "id": "6d1b74b1",
   "metadata": {},
   "outputs": [
    {
     "data": {
      "text/plain": [
       "array(['Yaz', 'Lupron', 'Estrace', 'Mirena', 'Letrozole', 'Clomid', nan],\n",
       "      dtype=object)"
      ]
     },
     "execution_count": 28,
     "metadata": {},
     "output_type": "execute_result"
    }
   ],
   "source": [
    "df['drug_name'].unique()"
   ]
  },
  {
   "cell_type": "code",
   "execution_count": 29,
   "id": "7b02a5b5",
   "metadata": {},
   "outputs": [],
   "source": [
    "# creating a map for drug brand to generic name conversion. also drug map is case sensitive\n",
    "\n",
    "drug_map = { ## this is grok version \n",
    "    'yaz': 'Drospirenone and Ethinyl Estradiol',\n",
    "    'lupron': 'Leuprolide',\n",
    "    'estrace': 'Estradiol',\n",
    "    'mirena': 'Levonorgestrel',\n",
    "    'letrozole': 'Letrozole',\n",
    "    'clomid': 'Clomiphene Citrate'\n",
    "}"
   ]
  },
  {
   "cell_type": "code",
   "execution_count": 30,
   "id": "5b6e7f31",
   "metadata": {},
   "outputs": [],
   "source": [
    "# create a function to normalize the dates \n",
    "def normalize_date(date_str):\n",
    "    try:\n",
    "        if pd.isnull(date_str):\n",
    "            return None\n",
    "        return datetime.strptime(date_str, '%Y-%m-%d').date()\n",
    "    except ValueError:\n",
    "        return None"
   ]
  },
  {
   "cell_type": "code",
   "execution_count": 31,
   "id": "f71bc75c",
   "metadata": {},
   "outputs": [],
   "source": [
    "# create a function that normalize the drug name and check NA\n",
    "def normalize_drug(drug_name):\n",
    "    try:\n",
    "        if pd.isnull(drug_name):\n",
    "            return None\n",
    "    except TypeError:\n",
    "        return None\n",
    "    return drug_map.get(drug_name.strip().lower(), drug_name.strip().lower())    "
   ]
  },
  {
   "cell_type": "code",
   "execution_count": 32,
   "id": "d807d59f",
   "metadata": {},
   "outputs": [],
   "source": [
    "df[\"drug_generic\"] = df[\"drug_name\"].apply(normalize_drug)\n"
   ]
  },
  {
   "cell_type": "code",
   "execution_count": 34,
   "id": "0c465178",
   "metadata": {},
   "outputs": [],
   "source": [
    "# normalized dates\n",
    "df['start_date'] = pd.to_datetime(df['start_date'], errors='coerce')"
   ]
  },
  {
   "cell_type": "code",
   "execution_count": 44,
   "id": "78a8a4ea",
   "metadata": {},
   "outputs": [],
   "source": [
    "# Extract unit part (optional letters after number, e.g. \"mg\")\n",
    "df['dose_unit'] = df['dose_mg'].str.extract(r'([a-zA-Z]+)').fillna('None')\n",
    "\n",
    "# Extract numeric part (handles numbers with optional space before units)\n",
    "df['dose'] = df['dose_mg'].str.extract(r'(\\d*\\.?\\d+)').astype(float)\n"
   ]
  },
  {
   "cell_type": "code",
   "execution_count": 46,
   "id": "c32916a2",
   "metadata": {},
   "outputs": [],
   "source": [
    "df_final = df.drop(columns=['dose_mg'])"
   ]
  },
  {
   "cell_type": "code",
   "execution_count": 49,
   "id": "7b790bab",
   "metadata": {},
   "outputs": [
    {
     "data": {
      "text/html": [
       "<div>\n",
       "<style scoped>\n",
       "    .dataframe tbody tr th:only-of-type {\n",
       "        vertical-align: middle;\n",
       "    }\n",
       "\n",
       "    .dataframe tbody tr th {\n",
       "        vertical-align: top;\n",
       "    }\n",
       "\n",
       "    .dataframe thead th {\n",
       "        text-align: right;\n",
       "    }\n",
       "</style>\n",
       "<table border=\"1\" class=\"dataframe\">\n",
       "  <thead>\n",
       "    <tr style=\"text-align: right;\">\n",
       "      <th></th>\n",
       "      <th>trial_id</th>\n",
       "      <th>drug_name</th>\n",
       "      <th>start_date</th>\n",
       "      <th>condition</th>\n",
       "      <th>intervention_details</th>\n",
       "      <th>drug_generic</th>\n",
       "      <th>dose_unit</th>\n",
       "      <th>dose</th>\n",
       "    </tr>\n",
       "  </thead>\n",
       "  <tbody>\n",
       "    <tr>\n",
       "      <th>0</th>\n",
       "      <td>WH001</td>\n",
       "      <td>Yaz</td>\n",
       "      <td>2022-10-01</td>\n",
       "      <td>polycystic ovary syndrome</td>\n",
       "      <td>Drospirenone/ethinyl estradiol daily</td>\n",
       "      <td>Drospirenone and Ethinyl Estradiol</td>\n",
       "      <td>mg</td>\n",
       "      <td>3.00</td>\n",
       "    </tr>\n",
       "    <tr>\n",
       "      <th>1</th>\n",
       "      <td>WH002</td>\n",
       "      <td>Lupron</td>\n",
       "      <td>2022-11-15</td>\n",
       "      <td>Endometriosis</td>\n",
       "      <td>3.75mg Lupron Depot injection</td>\n",
       "      <td>Leuprolide</td>\n",
       "      <td>None</td>\n",
       "      <td>3.75</td>\n",
       "    </tr>\n",
       "    <tr>\n",
       "      <th>2</th>\n",
       "      <td>WH003</td>\n",
       "      <td>Estrace</td>\n",
       "      <td>2023-01-02</td>\n",
       "      <td>Menopause symptoms</td>\n",
       "      <td>Estradiol oral tablet once daily</td>\n",
       "      <td>Estradiol</td>\n",
       "      <td>mg</td>\n",
       "      <td>1.00</td>\n",
       "    </tr>\n",
       "    <tr>\n",
       "      <th>3</th>\n",
       "      <td>WH004</td>\n",
       "      <td>Mirena</td>\n",
       "      <td>2023-02-15</td>\n",
       "      <td>contraception</td>\n",
       "      <td>Levonorgestrel-releasing IUD</td>\n",
       "      <td>Levonorgestrel</td>\n",
       "      <td>None</td>\n",
       "      <td>NaN</td>\n",
       "    </tr>\n",
       "    <tr>\n",
       "      <th>4</th>\n",
       "      <td>WH005</td>\n",
       "      <td>Letrozole</td>\n",
       "      <td>2023-01-05</td>\n",
       "      <td>infertility</td>\n",
       "      <td>2.5 mg Letrozole daily</td>\n",
       "      <td>Letrozole</td>\n",
       "      <td>None</td>\n",
       "      <td>2.50</td>\n",
       "    </tr>\n",
       "    <tr>\n",
       "      <th>5</th>\n",
       "      <td>WH006</td>\n",
       "      <td>Clomid</td>\n",
       "      <td>2023-01-07</td>\n",
       "      <td>Ovulatory dysfunction</td>\n",
       "      <td>Clomiphene Citrate oral tablet</td>\n",
       "      <td>Clomiphene Citrate</td>\n",
       "      <td>mg</td>\n",
       "      <td>50.00</td>\n",
       "    </tr>\n",
       "    <tr>\n",
       "      <th>6</th>\n",
       "      <td>WH007</td>\n",
       "      <td>NaN</td>\n",
       "      <td>2023-01-08</td>\n",
       "      <td>PMS</td>\n",
       "      <td>Vitamin B6, magnesium</td>\n",
       "      <td>None</td>\n",
       "      <td>None</td>\n",
       "      <td>NaN</td>\n",
       "    </tr>\n",
       "  </tbody>\n",
       "</table>\n",
       "</div>"
      ],
      "text/plain": [
       "  trial_id  drug_name start_date                  condition  \\\n",
       "0    WH001        Yaz 2022-10-01  polycystic ovary syndrome   \n",
       "1    WH002     Lupron 2022-11-15              Endometriosis   \n",
       "2    WH003    Estrace 2023-01-02         Menopause symptoms   \n",
       "3    WH004     Mirena 2023-02-15              contraception   \n",
       "4    WH005  Letrozole 2023-01-05                infertility   \n",
       "5    WH006     Clomid 2023-01-07      Ovulatory dysfunction   \n",
       "6    WH007        NaN 2023-01-08                        PMS   \n",
       "\n",
       "                   intervention_details                        drug_generic  \\\n",
       "0  Drospirenone/ethinyl estradiol daily  Drospirenone and Ethinyl Estradiol   \n",
       "1         3.75mg Lupron Depot injection                          Leuprolide   \n",
       "2      Estradiol oral tablet once daily                           Estradiol   \n",
       "3          Levonorgestrel-releasing IUD                      Levonorgestrel   \n",
       "4                2.5 mg Letrozole daily                           Letrozole   \n",
       "5        Clomiphene Citrate oral tablet                  Clomiphene Citrate   \n",
       "6                 Vitamin B6, magnesium                                None   \n",
       "\n",
       "  dose_unit   dose  \n",
       "0        mg   3.00  \n",
       "1      None   3.75  \n",
       "2        mg   1.00  \n",
       "3      None    NaN  \n",
       "4      None   2.50  \n",
       "5        mg  50.00  \n",
       "6      None    NaN  "
      ]
     },
     "execution_count": 49,
     "metadata": {},
     "output_type": "execute_result"
    }
   ],
   "source": [
    "df_final"
   ]
  }
 ],
 "metadata": {
  "kernelspec": {
   "display_name": "Python 3",
   "language": "python",
   "name": "python3"
  },
  "language_info": {
   "codemirror_mode": {
    "name": "ipython",
    "version": 3
   },
   "file_extension": ".py",
   "mimetype": "text/x-python",
   "name": "python",
   "nbconvert_exporter": "python",
   "pygments_lexer": "ipython3",
   "version": "3.11.1"
  }
 },
 "nbformat": 4,
 "nbformat_minor": 5
}
