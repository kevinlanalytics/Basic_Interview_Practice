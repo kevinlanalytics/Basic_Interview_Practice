{
 "cells": [
  {
   "cell_type": "code",
   "execution_count": 2,
   "id": "9aae5a0a",
   "metadata": {},
   "outputs": [],
   "source": [
    "import pandas as pd\n",
    "import json"
   ]
  },
  {
   "cell_type": "code",
   "execution_count": 3,
   "id": "96a0fac8",
   "metadata": {},
   "outputs": [],
   "source": [
    "with open('patientA.json', 'r') as file:\n",
    "    patient_data = json.load(file)"
   ]
  },
  {
   "cell_type": "markdown",
   "id": "5ac35ec8",
   "metadata": {},
   "source": [
    "#### Print Json Data "
   ]
  },
  {
   "cell_type": "code",
   "execution_count": 14,
   "id": "f009106b",
   "metadata": {},
   "outputs": [
    {
     "data": {
      "text/plain": [
       "{'resourceType': 'Patient',\n",
       " 'id': 'example-patient-1',\n",
       " 'meta': {'versionId': '1', 'lastUpdated': '2025-08-05T15:00:00Z'},\n",
       " 'identifier': [{'use': 'usual',\n",
       "   'type': {'coding': [{'system': 'http://terminology.hl7.org/CodeSystem/v2-0203',\n",
       "      'code': 'MR'}],\n",
       "    'text': 'Medical Record Number'},\n",
       "   'system': 'urn:oid:1.2.36.146.595.217.0.1',\n",
       "   'value': '123456'}],\n",
       " 'active': True,\n",
       " 'name': [{'use': 'official', 'family': 'Smith', 'given': ['John']}],\n",
       " 'gender': 'male',\n",
       " 'birthDate': '1985-05-15',\n",
       " 'telecom': [{'system': 'phone', 'value': '555-555-5555', 'use': 'home'}],\n",
       " 'address': [{'use': 'home',\n",
       "   'line': ['123 Main St'],\n",
       "   'city': 'Anytown',\n",
       "   'state': 'CA',\n",
       "   'postalCode': '90210',\n",
       "   'country': 'USA'}]}"
      ]
     },
     "execution_count": 14,
     "metadata": {},
     "output_type": "execute_result"
    }
   ],
   "source": [
    "patient_data"
   ]
  },
  {
   "cell_type": "markdown",
   "id": "09e439df",
   "metadata": {},
   "source": [
    "#### Extracting MRN"
   ]
  },
  {
   "cell_type": "code",
   "execution_count": 20,
   "id": "bb02036c",
   "metadata": {},
   "outputs": [
    {
     "data": {
      "text/plain": [
       "[{'use': 'usual',\n",
       "  'type': {'coding': [{'system': 'http://terminology.hl7.org/CodeSystem/v2-0203',\n",
       "     'code': 'MR'}],\n",
       "   'text': 'Medical Record Number'},\n",
       "  'system': 'urn:oid:1.2.36.146.595.217.0.1',\n",
       "  'value': '123456'}]"
      ]
     },
     "execution_count": 20,
     "metadata": {},
     "output_type": "execute_result"
    }
   ],
   "source": [
    "identifiers = patient_data.get(\"identifier\", [])\n",
    "identifiers"
   ]
  },
  {
   "cell_type": "code",
   "execution_count": 30,
   "id": "b66dc56a",
   "metadata": {},
   "outputs": [
    {
     "data": {
      "text/plain": [
       "{'use': 'usual',\n",
       " 'type': {'coding': [{'system': 'http://terminology.hl7.org/CodeSystem/v2-0203',\n",
       "    'code': 'MR'}],\n",
       "  'text': 'Medical Record Number'},\n",
       " 'system': 'urn:oid:1.2.36.146.595.217.0.1',\n",
       " 'value': '123456'}"
      ]
     },
     "execution_count": 30,
     "metadata": {},
     "output_type": "execute_result"
    }
   ],
   "source": [
    "identifier_first = identifiers[0]\n",
    "identifier_first "
   ]
  },
  {
   "cell_type": "code",
   "execution_count": 35,
   "id": "50bd6ba9",
   "metadata": {},
   "outputs": [
    {
     "data": {
      "text/plain": [
       "{'coding': [{'system': 'http://terminology.hl7.org/CodeSystem/v2-0203',\n",
       "   'code': 'MR'}],\n",
       " 'text': 'Medical Record Number'}"
      ]
     },
     "execution_count": 35,
     "metadata": {},
     "output_type": "execute_result"
    }
   ],
   "source": [
    "identifier_type = identifier_first.get(\"type\", {})\n",
    "identifier_type"
   ]
  },
  {
   "cell_type": "code",
   "execution_count": 36,
   "id": "3c4f426a",
   "metadata": {},
   "outputs": [
    {
     "data": {
      "text/plain": [
       "'Medical Record Number'"
      ]
     },
     "execution_count": 36,
     "metadata": {},
     "output_type": "execute_result"
    }
   ],
   "source": [
    "identifier_text = identifier_type.get(\"text\", \"\")\n",
    "identifier_text\n"
   ]
  },
  {
   "cell_type": "code",
   "execution_count": 37,
   "id": "1e34c76b",
   "metadata": {},
   "outputs": [
    {
     "data": {
      "text/plain": [
       "'123456'"
      ]
     },
     "execution_count": 37,
     "metadata": {},
     "output_type": "execute_result"
    }
   ],
   "source": [
    "identifier_value = identifier_first.get(\"value\", {})\n",
    "identifier_value"
   ]
  },
  {
   "cell_type": "code",
   "execution_count": 42,
   "id": "f3fada4d",
   "metadata": {},
   "outputs": [
    {
     "data": {
      "text/plain": [
       "[{'use': 'official', 'family': 'Smith', 'given': ['John']}]"
      ]
     },
     "execution_count": 42,
     "metadata": {},
     "output_type": "execute_result"
    }
   ],
   "source": [
    "patient_name = patient_data.get(\"name\", [])\n",
    "patient_name"
   ]
  },
  {
   "cell_type": "markdown",
   "id": "f9027b4e",
   "metadata": {},
   "source": [
    "#### Patient Name Extraction "
   ]
  },
  {
   "cell_type": "code",
   "execution_count": 46,
   "id": "1061357f",
   "metadata": {},
   "outputs": [
    {
     "data": {
      "text/plain": [
       "'John'"
      ]
     },
     "execution_count": 46,
     "metadata": {},
     "output_type": "execute_result"
    }
   ],
   "source": [
    "pt_given_name = patient_name[0].get(\"given\", [])\n",
    "pt_given_name = pt_given_name[0]\n",
    "pt_given_name"
   ]
  },
  {
   "cell_type": "code",
   "execution_count": 54,
   "id": "114a5e0d",
   "metadata": {},
   "outputs": [],
   "source": [
    "def pt_given_name_func(patient_data):\n",
    "    patient_name = patient_data.get(\"name\", [])\n",
    "    pt_given_name = patient_name[0].get(\"given\", [])\n",
    "    if pt_given_name is None:\n",
    "        return \"No given name found\"\n",
    "    pt_given_name = pt_given_name[0]\n",
    "    return pt_given_name"
   ]
  },
  {
   "cell_type": "code",
   "execution_count": 55,
   "id": "23102a8c",
   "metadata": {},
   "outputs": [
    {
     "data": {
      "text/plain": [
       "'John'"
      ]
     },
     "execution_count": 55,
     "metadata": {},
     "output_type": "execute_result"
    }
   ],
   "source": [
    "given_name = pt_given_name_func(patient_data)\n",
    "given_name"
   ]
  },
  {
   "cell_type": "code",
   "execution_count": null,
   "id": "39c8398b",
   "metadata": {},
   "outputs": [],
   "source": [
    "def pt_given_name_func(patient_name):\n",
    "    patient_name = patient_data.get(\"name\", [])\n",
    "    pt_given_name_list = patient_name[0].get(\"given\", []) # Safely get the list of given names, defaulting to an empty list\n",
    "    if pt_given_name_list:    # Check if the list is not empty before trying to access the first item\n",
    "        return pt_given_name_list[0]     # If the list has items, return the first one\n",
    "    else:\n",
    "        return \"No given name found\"# If the list is empty, return a message or None"
   ]
  },
  {
   "cell_type": "code",
   "execution_count": 48,
   "id": "61335d01",
   "metadata": {},
   "outputs": [
    {
     "data": {
      "text/plain": [
       "'Smith'"
      ]
     },
     "execution_count": 48,
     "metadata": {},
     "output_type": "execute_result"
    }
   ],
   "source": [
    "pt_family_name = patient_name[0].get(\"family\", [])\n",
    "pt_family_name"
   ]
  },
  {
   "cell_type": "code",
   "execution_count": null,
   "id": "22d94142",
   "metadata": {},
   "outputs": [],
   "source": [
    "# After confirming the logic works, we can put it into a function\n",
    "\n",
    "def mrn_extract(patient_data):\n",
    "    identifiers = patient_data.get(\"identifier\", [])\n",
    "    if not identifiers:\n",
    "        return None\n",
    "    \n",
    "    identifier_first = identifiers[0]\n",
    "    identifier_type = identifier_first.get(\"type\", {})\n",
    "    identifier_text = identifier_type.get(\"text\", \"\")\n",
    "    \n",
    "    if identifier_text == \"MRN\" or identifier_text == \"Medical Record Number\":\n",
    "        return identifier_first.get(\"value\", None)\n",
    "    \n",
    "    return None"
   ]
  },
  {
   "cell_type": "code",
   "execution_count": 39,
   "id": "4380c71a",
   "metadata": {},
   "outputs": [
    {
     "data": {
      "text/plain": [
       "'123456'"
      ]
     },
     "execution_count": 39,
     "metadata": {},
     "output_type": "execute_result"
    }
   ],
   "source": [
    "mrn = mrn_extract(patient_data)\n",
    "mrn"
   ]
  },
  {
   "cell_type": "code",
   "execution_count": null,
   "id": "be68f0a8",
   "metadata": {},
   "outputs": [],
   "source": []
  },
  {
   "cell_type": "markdown",
   "id": "90b156d2",
   "metadata": {},
   "source": [
    "#### Add the value to the dictionary map"
   ]
  },
  {
   "cell_type": "code",
   "execution_count": null,
   "id": "a553600b",
   "metadata": {},
   "outputs": [],
   "source": [
    "# Create a new, flattened dictionary to hold the extracted data\n",
    "transformed_data = {\n",
    "    \"patient_id\": patient_data.get(\"id\"),\n",
    "    \"mrn\": mrn, # Initialize with None, after having mrn_extract function\n",
    "    \"first_name\": None,\n",
    "    \"last_name\": None,\n",
    "    \"gender\": patient_data.get(\"gender\"),\n",
    "    \"birth_date\": patient_data.get(\"birthDate\"),\n",
    "    \"phone_number\": None,\n",
    "    \"address_line\": None,\n",
    "    \"city\": None,\n",
    "    \"state\": None,\n",
    "    \"postal_code\": None\n",
    "}"
   ]
  },
  {
   "cell_type": "markdown",
   "id": "e93d17d1",
   "metadata": {},
   "source": [
    "#### Convert dictionary to Data Frame"
   ]
  },
  {
   "cell_type": "code",
   "execution_count": null,
   "id": "80564dd2",
   "metadata": {},
   "outputs": [],
   "source": [
    "df = pd.DataFrame([transformed_data])"
   ]
  },
  {
   "cell_type": "code",
   "execution_count": null,
   "id": "aab5cc4b",
   "metadata": {},
   "outputs": [],
   "source": [
    "df"
   ]
  }
 ],
 "metadata": {
  "kernelspec": {
   "display_name": "Python 3",
   "language": "python",
   "name": "python3"
  },
  "language_info": {
   "codemirror_mode": {
    "name": "ipython",
    "version": 3
   },
   "file_extension": ".py",
   "mimetype": "text/x-python",
   "name": "python",
   "nbconvert_exporter": "python",
   "pygments_lexer": "ipython3",
   "version": "3.11.1"
  }
 },
 "nbformat": 4,
 "nbformat_minor": 5
}
